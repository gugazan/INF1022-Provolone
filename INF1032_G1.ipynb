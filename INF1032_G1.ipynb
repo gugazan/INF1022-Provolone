{
  "cells": [
    {
      "cell_type": "markdown",
      "metadata": {
        "id": "view-in-github",
        "colab_type": "text"
      },
      "source": [
        "<a href=\"https://colab.research.google.com/github/gugazan/INF1022-Provolone/blob/main/INF1032_G1.ipynb\" target=\"_parent\"><img src=\"https://colab.research.google.com/assets/colab-badge.svg\" alt=\"Open In Colab\"/></a>"
      ]
    },
    {
      "cell_type": "code",
      "execution_count": null,
      "metadata": {
        "colab": {
          "base_uri": "https://localhost:8080/",
          "height": 245
        },
        "id": "b-NNdEYrlBmh",
        "outputId": "cf902d16-26ce-4c03-f23a-9dc152279741"
      },
      "outputs": [
        {
          "name": "stdout",
          "output_type": "stream",
          "text": [
            "Database/CVD_cleaned.csv\n"
          ]
        },
        {
          "data": {
            "text/html": [
              "<div>\n",
              "<style scoped>\n",
              "    .dataframe tbody tr th:only-of-type {\n",
              "        vertical-align: middle;\n",
              "    }\n",
              "\n",
              "    .dataframe tbody tr th {\n",
              "        vertical-align: top;\n",
              "    }\n",
              "\n",
              "    .dataframe thead th {\n",
              "        text-align: right;\n",
              "    }\n",
              "</style>\n",
              "<table border=\"1\" class=\"dataframe\">\n",
              "  <thead>\n",
              "    <tr style=\"text-align: right;\">\n",
              "      <th></th>\n",
              "      <th>General_Health</th>\n",
              "      <th>Checkup</th>\n",
              "      <th>Exercise</th>\n",
              "      <th>Heart_Disease</th>\n",
              "      <th>Skin_Cancer</th>\n",
              "      <th>Other_Cancer</th>\n",
              "      <th>Depression</th>\n",
              "      <th>Diabetes</th>\n",
              "      <th>Arthritis</th>\n",
              "      <th>Sex</th>\n",
              "      <th>Age_Category</th>\n",
              "      <th>Height_(cm)</th>\n",
              "      <th>Weight_(kg)</th>\n",
              "      <th>BMI</th>\n",
              "      <th>Smoking_History</th>\n",
              "      <th>Alcohol_Consumption</th>\n",
              "      <th>Fruit_Consumption</th>\n",
              "      <th>Green_Vegetables_Consumption</th>\n",
              "      <th>FriedPotato_Consumption</th>\n",
              "    </tr>\n",
              "  </thead>\n",
              "  <tbody>\n",
              "    <tr>\n",
              "      <th>0</th>\n",
              "      <td>Poor</td>\n",
              "      <td>Within the past 2 years</td>\n",
              "      <td>No</td>\n",
              "      <td>No</td>\n",
              "      <td>No</td>\n",
              "      <td>No</td>\n",
              "      <td>No</td>\n",
              "      <td>No</td>\n",
              "      <td>Yes</td>\n",
              "      <td>Female</td>\n",
              "      <td>70-74</td>\n",
              "      <td>150.0</td>\n",
              "      <td>32.66</td>\n",
              "      <td>14.54</td>\n",
              "      <td>Yes</td>\n",
              "      <td>0.0</td>\n",
              "      <td>30.0</td>\n",
              "      <td>16.0</td>\n",
              "      <td>12.0</td>\n",
              "    </tr>\n",
              "    <tr>\n",
              "      <th>1</th>\n",
              "      <td>Very Good</td>\n",
              "      <td>Within the past year</td>\n",
              "      <td>No</td>\n",
              "      <td>Yes</td>\n",
              "      <td>No</td>\n",
              "      <td>No</td>\n",
              "      <td>No</td>\n",
              "      <td>Yes</td>\n",
              "      <td>No</td>\n",
              "      <td>Female</td>\n",
              "      <td>70-74</td>\n",
              "      <td>165.0</td>\n",
              "      <td>77.11</td>\n",
              "      <td>28.29</td>\n",
              "      <td>No</td>\n",
              "      <td>0.0</td>\n",
              "      <td>30.0</td>\n",
              "      <td>0.0</td>\n",
              "      <td>4.0</td>\n",
              "    </tr>\n",
              "    <tr>\n",
              "      <th>2</th>\n",
              "      <td>Very Good</td>\n",
              "      <td>Within the past year</td>\n",
              "      <td>Yes</td>\n",
              "      <td>No</td>\n",
              "      <td>No</td>\n",
              "      <td>No</td>\n",
              "      <td>No</td>\n",
              "      <td>Yes</td>\n",
              "      <td>No</td>\n",
              "      <td>Female</td>\n",
              "      <td>60-64</td>\n",
              "      <td>163.0</td>\n",
              "      <td>88.45</td>\n",
              "      <td>33.47</td>\n",
              "      <td>No</td>\n",
              "      <td>4.0</td>\n",
              "      <td>12.0</td>\n",
              "      <td>3.0</td>\n",
              "      <td>16.0</td>\n",
              "    </tr>\n",
              "    <tr>\n",
              "      <th>3</th>\n",
              "      <td>Poor</td>\n",
              "      <td>Within the past year</td>\n",
              "      <td>Yes</td>\n",
              "      <td>Yes</td>\n",
              "      <td>No</td>\n",
              "      <td>No</td>\n",
              "      <td>No</td>\n",
              "      <td>Yes</td>\n",
              "      <td>No</td>\n",
              "      <td>Male</td>\n",
              "      <td>75-79</td>\n",
              "      <td>180.0</td>\n",
              "      <td>93.44</td>\n",
              "      <td>28.73</td>\n",
              "      <td>No</td>\n",
              "      <td>0.0</td>\n",
              "      <td>30.0</td>\n",
              "      <td>30.0</td>\n",
              "      <td>8.0</td>\n",
              "    </tr>\n",
              "    <tr>\n",
              "      <th>4</th>\n",
              "      <td>Good</td>\n",
              "      <td>Within the past year</td>\n",
              "      <td>No</td>\n",
              "      <td>No</td>\n",
              "      <td>No</td>\n",
              "      <td>No</td>\n",
              "      <td>No</td>\n",
              "      <td>No</td>\n",
              "      <td>No</td>\n",
              "      <td>Male</td>\n",
              "      <td>80+</td>\n",
              "      <td>191.0</td>\n",
              "      <td>88.45</td>\n",
              "      <td>24.37</td>\n",
              "      <td>Yes</td>\n",
              "      <td>0.0</td>\n",
              "      <td>8.0</td>\n",
              "      <td>4.0</td>\n",
              "      <td>0.0</td>\n",
              "    </tr>\n",
              "  </tbody>\n",
              "</table>\n",
              "</div>"
            ],
            "text/plain": [
              "  General_Health                  Checkup Exercise Heart_Disease Skin_Cancer  \\\n",
              "0           Poor  Within the past 2 years       No            No          No   \n",
              "1      Very Good     Within the past year       No           Yes          No   \n",
              "2      Very Good     Within the past year      Yes            No          No   \n",
              "3           Poor     Within the past year      Yes           Yes          No   \n",
              "4           Good     Within the past year       No            No          No   \n",
              "\n",
              "  Other_Cancer Depression Diabetes Arthritis     Sex Age_Category  \\\n",
              "0           No         No       No       Yes  Female        70-74   \n",
              "1           No         No      Yes        No  Female        70-74   \n",
              "2           No         No      Yes        No  Female        60-64   \n",
              "3           No         No      Yes        No    Male        75-79   \n",
              "4           No         No       No        No    Male          80+   \n",
              "\n",
              "   Height_(cm)  Weight_(kg)    BMI Smoking_History  Alcohol_Consumption  \\\n",
              "0        150.0        32.66  14.54             Yes                  0.0   \n",
              "1        165.0        77.11  28.29              No                  0.0   \n",
              "2        163.0        88.45  33.47              No                  4.0   \n",
              "3        180.0        93.44  28.73              No                  0.0   \n",
              "4        191.0        88.45  24.37             Yes                  0.0   \n",
              "\n",
              "   Fruit_Consumption  Green_Vegetables_Consumption  FriedPotato_Consumption  \n",
              "0               30.0                          16.0                     12.0  \n",
              "1               30.0                           0.0                      4.0  \n",
              "2               12.0                           3.0                     16.0  \n",
              "3               30.0                          30.0                      8.0  \n",
              "4                8.0                           4.0                      0.0  "
            ]
          },
          "execution_count": 10,
          "metadata": {},
          "output_type": "execute_result"
        }
      ],
      "source": [
        "import os\n",
        "import numpy as np\n",
        "import pandas as pd\n",
        "import seaborn as sns\n",
        "import matplotlib.pyplot as plt\n",
        "from numpy.linalg import norm\n",
        "import scipy.stats as stats\n",
        "import matplotlib.patches as mpatches\n",
        "\n",
        "drive_path = 'Database/'\n",
        "contents = os.listdir(drive_path)\n",
        "\n",
        "for dirname, _, filenames in os.walk(drive_path):\n",
        "    for filename in filenames:\n",
        "        print(os.path.join(dirname, filename))\n",
        "\n",
        "df=pd.read_csv(drive_path + '/CVD_cleaned.csv')\n",
        "df.head()"
      ]
    },
    {
      "cell_type": "code",
      "execution_count": null,
      "metadata": {
        "colab": {
          "base_uri": "https://localhost:8080/"
        },
        "id": "w1VcgfWrzJK9",
        "outputId": "08d3e6e6-1caf-4ed3-b49d-2436687a3b79"
      },
      "outputs": [
        {
          "name": "stdout",
          "output_type": "stream",
          "text": [
            "Min:0.0\tMax:30.0\n"
          ]
        }
      ],
      "source": [
        "#Alcohol_Consumption\n",
        "\n",
        "print(\"Min:\" + str(df[\"Alcohol_Consumption\"].min()) + \"\\tMax:\" + str(df[\"Alcohol_Consumption\"].max()))"
      ]
    },
    {
      "cell_type": "markdown",
      "metadata": {
        "id": "vbWIxaeLT-HF"
      },
      "source": [
        "## Há diferenças significativas entre homens e mulheres em relação a doenças cardiovasculares?"
      ]
    },
    {
      "cell_type": "code",
      "execution_count": null,
      "metadata": {
        "id": "mWp-CKxo9Ixc",
        "outputId": "0a83fcb4-1422-408f-8fae-7be89d3f6fbb"
      },
      "outputs": [
        {
          "name": "stdout",
          "output_type": "stream",
          "text": [
            "Total de homens: \t 148658\n",
            "Total de mulheres: \t 160196\n"
          ]
        }
      ],
      "source": [
        "#Recolhendo numero de homens e mulheres totais\n",
        "totalH = len(df.query('Sex == \"Male\"'))\n",
        "totalM = len(df.query('Sex == \"Female\"'))\n",
        "print(\"Total de homens: \\t\", totalH)\n",
        "print(\"Total de mulheres: \\t\", totalM)"
      ]
    },
    {
      "cell_type": "code",
      "execution_count": null,
      "metadata": {
        "id": "E7aW8uuh9Ixd",
        "outputId": "82e89ccb-308c-4cf5-d26d-7fbef0fd5442"
      },
      "outputs": [
        {
          "name": "stdout",
          "output_type": "stream",
          "text": [
            "Homens com CVD: \t 15073 => 10.14 %\n",
            "Mulheres com CVD: \t 9898 => 6.18 %\n"
          ]
        }
      ],
      "source": [
        "#Recolher a porcentagem de homens e mulheres que possuem doenças cardiovasculares\n",
        "homemCVD = df.query('Sex == \"Male\" and Heart_Disease == \"Yes\"')\n",
        "mulherCVD = df.query('Sex == \"Female\" and Heart_Disease == \"Yes\"')\n",
        "print(\"Homens com CVD: \\t\",len(homemCVD),\"=>\",format(len(homemCVD)/totalH*100,'.2f'),\"%\")\n",
        "print(\"Mulheres com CVD: \\t\",len(mulherCVD),\"=>\",format(len(mulherCVD)/totalM*100,'.2f'),\"%\")"
      ]
    },
    {
      "cell_type": "markdown",
      "metadata": {
        "id": "jn751oMC9Ixd"
      },
      "source": [
        "#### Utilizando odds ratio:"
      ]
    },
    {
      "cell_type": "code",
      "execution_count": null,
      "metadata": {
        "id": "67kztc6L9Ixd",
        "outputId": "94e25266-6e7d-4c7e-9eb5-fe9522e273c4"
      },
      "outputs": [
        {
          "name": "stdout",
          "output_type": "stream",
          "text": [
            "Odds Ratio: \t\t 1.64\n",
            "Homens tem 64% chances de ter CVD do que mulheres\n"
          ]
        }
      ],
      "source": [
        "OR = (len(homemCVD)/totalH)/(len(mulherCVD)/totalM)\n",
        "print(\"Odds Ratio: \\t\\t\",format(OR,'.2f'))\n",
        "print(\"Homens tem 64% chances de ter CVD do que mulheres\")"
      ]
    },
    {
      "cell_type": "markdown",
      "metadata": {
        "id": "ltZE7inn9Ixe"
      },
      "source": [
        "#### Usando sobreposição de gráficos:"
      ]
    },
    {
      "cell_type": "code",
      "execution_count": null,
      "metadata": {
        "id": "BoGFNZva9Ixe"
      },
      "outputs": [],
      "source": [
        "def grafico(tabela):\n",
        "    '''Funcao que retorna um grafico de barras com a quantidade de pessoas em cada categoria de idade a partir de uma tabela'''\n",
        "    keys = sorted(pd.unique(tabela[\"Age_Category\"]))\n",
        "    values = {}\n",
        "    for key in keys:\n",
        "        values[key] = len(tabela.query('Age_Category == @key'))\n",
        "    fig = plt.figure(figsize=(10,5))\n",
        "    a,b = (zip(*values.items()))\n",
        "    return list(a), list(b)"
      ]
    },
    {
      "cell_type": "code",
      "execution_count": null,
      "metadata": {
        "id": "U2J5xOVM9Ixe",
        "outputId": "1220d17d-fb89-4d90-cf1a-4cce1c72d1f3"
      },
      "outputs": [
        {
          "data": {
            "text/plain": [
              "<Figure size 1000x500 with 0 Axes>"
            ]
          },
          "metadata": {},
          "output_type": "display_data"
        },
        {
          "data": {
            "image/png": "[encoded data removed]",
            "text/plain": [
              "<Figure size 1000x500 with 1 Axes>"
            ]
          },
          "metadata": {},
          "output_type": "display_data"
        }
      ],
      "source": [
        "#CALCULO PARA MULHERES\n",
        "womenAgeGroup, womenCountAge = grafico(mulherCVD)\n",
        "\n",
        "#CALCULO PARA HOMENS\n",
        "menAgeGroup, menCountAge = grafico(homemCVD)\n",
        "\n",
        "#COLUNAS\n",
        "ax=sns.barplot(x=menAgeGroup,y=menCountAge,color = 'blue', alpha = 0.5)\n",
        "ax=sns.barplot(x=womenAgeGroup,y=womenCountAge,color = 'red', alpha = 0.5)\n",
        "\n",
        "#RENOMEANDO DETALHES\n",
        "plt.title(\"Number of men and women with CVD by age category\")\n",
        "ax.set(xlabel=\"Age Groups\", ylabel=\"Count Age Groups\")\n",
        "bluepat = mpatches.Patch(color='blue',label= 'Men',alpha = 0.5)\n",
        "redpat = mpatches.Patch(color='red',label= 'Women',alpha = 0.5)\n",
        "plt.legend(handles=[bluepat,redpat],loc='upper left')\n",
        "\n",
        "plt.show()\n"
      ]
    },
    {
      "cell_type": "markdown",
      "metadata": {
        "id": "8RUHlAd1UNMm"
      },
      "source": [
        "## Como diferentes comorbidades afetam o risco de contrair doenças cardiovasculares?"
      ]
    },
    {
      "cell_type": "markdown",
      "metadata": {
        "id": "T4G17YxlUXD1"
      },
      "source": [
        "## Quais são os fatores de risco mais relevantes para o desenvolvimento de doenças cardiovasculares?"
      ]
    },
    {
      "cell_type": "markdown",
      "metadata": {
        "id": "JaAxyqxHUaLz"
      },
      "source": [
        "## Como a atividade física afeta o risco de doenças cardiovasculares?"
      ]
    },
    {
      "cell_type": "code",
      "source": [
        "totalCVD = len(df.query('Heart_Disease == \"Yes\"'))\n",
        "exercicioS = len(df.query('Heart_Disease == \"Yes\" and Exercise == \"Yes\"'))\n",
        "exercicioN = len(df.query('Heart_Disease == \"Yes\" and Exercise == \"No\"'))\n",
        "\n",
        "print(f'CVD total: {totalCVD}')\n",
        "print(f'CVD que malham: {exercicioS} ')\n",
        "print(f'CVD que NÃO malham: {exercicioN} ')\n",
        "\n",
        "pMalham =  exercicioS/totalCVD\n",
        "pMalhamN =  exercicioN/totalCVD\n",
        "\n",
        "print(f'Porcentagem CVD que malham: {pMalham * 100 :.1f}%')\n",
        "print(f'Porcentagem CVD que NÃO malham: {pMalhamN*100:.1f}%')"
      ],
      "metadata": {
        "id": "jb4C2aIu9MeR"
      },
      "execution_count": null,
      "outputs": []
    },
    {
      "cell_type": "code",
      "source": [
        "totalExercicio = len(df.query('Exercise == \"Yes\"'))\n",
        "CVDsim = len(df.query('Heart_Disease == \"Yes\" and Exercise == \"Yes\"'))\n",
        "CVDnao = len(df.query('Heart_Disease == \"No\" and Exercise == \"Yes\"'))\n",
        "\n",
        "print(f'Total de pessoas que se exercitam: {totalExercicio}')\n",
        "print(f'Exercicio e CVD: {CVDsim} ')\n",
        "print(f'Exercicio sem CVD: {CVDnao}')\n",
        "\n",
        "pCVDsim = CVDsim / totalExercicio\n",
        "pCVDnao = CVDnao / totalExercicio\n",
        "\n",
        "print(f'Porcentagem que malham e tem CVD: {pCVDsim * 100 :.1f}%')\n",
        "print(f'Porcentagem que malham e NÃO tem CVD: {pCVDnao*100:.1f}%')"
      ],
      "metadata": {
        "id": "ZoCCsBcu9Pis"
      },
      "execution_count": null,
      "outputs": []
    },
    {
      "cell_type": "code",
      "source": [
        "labelsExercicio = [f'CVD\\n({CVDsim})', f'!CVD\\n({CVDnao})']\n",
        "sizesExercicio = [pCVDsim, pCVDnao]\n",
        "\n",
        "fig, ax = plt.subplots()\n",
        "ax.set_title(f'Pessoas que fazem exercício\\n({totalExercicio})')\n",
        "ax.pie(sizesExercicio, labels=labelsExercicio, autopct='%1.1f%%', colors = [\"red\", \"green\"], startangle=180)\n",
        "plt.show()"
      ],
      "metadata": {
        "id": "e8YTd9qD9SUF"
      },
      "execution_count": null,
      "outputs": []
    },
    {
      "cell_type": "code",
      "source": [
        "#Análise General Health\n",
        "GHpoor = len(df.query('General_Health == \"Poor\"'))\n",
        "GHfair = len(df.query('General_Health == \"Fair\"'))\n",
        "GHgood = len(df.query('General_Health == \"Good\"'))\n",
        "GHverygood = len(df.query('General_Health == \"Very Good\"'))\n",
        "GHexcellent = len(df.query('General_Health == \"Excellent\"'))\n",
        "\n",
        "#Estatística de exercícios General_Health == \"Poor\"\n",
        "poorE = len(df.query('General_Health == \"Poor\" and Exercise == \"Yes\"'))\n",
        "poorNE = len(df.query('General_Health == \"Poor\" and Exercise == \"No\"'))\n",
        "\n",
        "ppoorE = poorE / GHpoor\n",
        "ppoorNE = poorNE / GHpoor\n",
        "\n",
        "print(f'Poor General Health que fazem exercício: {ppoorE*100 :.1f}')\n",
        "print(f'Poor General Health que NÃO fazem exercício: {ppoorNE*100 :.1f}\\n')\n",
        "\n",
        "#Estatística de exercícios General_Health == \"Fair\"\n",
        "\n",
        "fairE = len(df.query('General_Health == \"Fair\" and Exercise == \"Yes\"'))\n",
        "fairNE = len(df.query('General_Health == \"Fair\" and Exercise == \"No\"'))\n",
        "\n",
        "pfairE = fairE / GHfair\n",
        "pfairNE = fairNE / GHfair\n",
        "\n",
        "print(f'Fair General Health que fazem exercício: {pfairE*100 :.1f}')\n",
        "print(f'Fair General Health que NÃO fazem exercício: {pfairNE*100 :.1f}\\n')\n",
        "\n",
        "#Estatística de exercícios General_Health == \"Good\"\n",
        "goodE = len(df.query('General_Health == \"Good\" and Exercise == \"Yes\"'))\n",
        "goodNE = len(df.query('General_Health == \"Good\" and Exercise == \"No\"'))\n",
        "\n",
        "pgoodE = goodE / GHgood\n",
        "pgoodNE = goodNE / GHgood\n",
        "\n",
        "print(f'Good General Health que fazem exercício: {pgoodE*100 :.1f}')\n",
        "print(f'Good General Health que NÃO fazem exercício: {pgoodNE*100 :.1f}\\n')\n",
        "\n",
        "#Estatística de exercícios General_Health == \"Very Good\"\n",
        "verygoodE = len(df.query('General_Health == \"Very Good\" and Exercise == \"Yes\"'))\n",
        "verygoodNE = len(df.query('General_Health == \"Very Good\" and Exercise == \"No\"'))\n",
        "\n",
        "pverygoodE = verygoodE / GHverygood\n",
        "pverygoodNE = verygoodNE / GHverygood\n",
        "\n",
        "print(f'Very Good General Health que fazem exercício: {pverygoodE*100 :.1f}')\n",
        "print(f'Very Good General Health que NÃO fazem exercício: {pverygoodNE*100 :.1f}\\n')\n",
        "\n",
        "#Estatística de exercícios General_Health == \"Excellent\"\n",
        "excellentE = len(df.query('General_Health == \"Excellent\" and Exercise == \"Yes\"'))\n",
        "excellentNE = len(df.query('General_Health == \"Excellent\" and Exercise == \"No\"'))\n",
        "\n",
        "pexcellentE = excellentE / GHexcellent\n",
        "pexcellentNE = excellentNE / GHexcellent\n",
        "\n",
        "print(f'Excellent General Health que fazem exercício: {pexcellentE*100 :.1f}')\n",
        "print(f'Excellent General Health que NÃO fazem exercício: {pexcellentNE*100 :.1f}\\n')"
      ],
      "metadata": {
        "id": "c1y8bUOh9XDr"
      },
      "execution_count": null,
      "outputs": []
    },
    {
      "cell_type": "code",
      "source": [
        "dataGHE = {'Poor':ppoorE*100, 'Fair':pfairE*100, 'Good':pgoodE*100, 'Very Good':pverygoodE*100, 'Excellent':pexcellentE*100}\n",
        "\n",
        "GH = list(dataGHE.keys())\n",
        "valuesGH = list(dataGHE.values())\n",
        "\n",
        "fig = plt.figure(figsize = (10, 5))\n",
        "\n",
        "plt.bar(GH, valuesGH, color ='blue', width = 0.4)\n",
        "plt.xlabel(\"General Health\")\n",
        "plt.ylabel(\"Porcentagem de pessoas que fazem exercício\")\n",
        "plt.title(\"Exercício VS. General Health\")\n",
        "plt.show()"
      ],
      "metadata": {
        "id": "lzUpDp0X9ZNd"
      },
      "execution_count": null,
      "outputs": []
    },
    {
      "cell_type": "markdown",
      "metadata": {
        "id": "TFgHpQtVUg4c"
      },
      "source": [
        "## Quais medidas preventivas podem ser adotadas com base nos modelos de predição de risco?"
      ]
    },
    {
      "cell_type": "markdown",
      "metadata": {
        "id": "MJsy5Mc9UpnI"
      },
      "source": [
        "## Quais são os recursos e alertas que podemos fornecer aos usuários com base nas previsões de risco?"
      ]
    }
  ],
  "metadata": {
    "colab": {
      "provenance": [],
      "toc_visible": true,
      "include_colab_link": true
    },
    "kernelspec": {
      "display_name": "Python 3.10.11 ('myenv')",
      "language": "python",
      "name": "python3"
    },
    "language_info": {
      "codemirror_mode": {
        "name": "ipython",
        "version": 3
      },
      "file_extension": ".py",
      "mimetype": "text/x-python",
      "name": "python",
      "nbconvert_exporter": "python",
      "pygments_lexer": "ipython3",
      "version": "3.10.11"
    },
    "vscode": {
      "interpreter": {
        "hash": "d556b6cca6773b92447c47fdb8e9d2646421f5e1480ccb980f488385bf023856"
      }
    }
  },
  "nbformat": 4,
  "nbformat_minor": 0
}